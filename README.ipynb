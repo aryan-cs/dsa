{
 "cells": [
  {
   "cell_type": "markdown",
   "id": "d09107c1-d2af-49eb-b134-7717767262cf",
   "metadata": {
    "jp-MarkdownHeadingCollapsed": true
   },
   "source": [
    "# Preface\n",
    "\n",
    "This manual was made by Aryan Gupta. If you see anything wrong, feel free to open a pull request & commit the fixed changes.\n",
    "\n",
    "**GitHub Repository**: https://github.com/aryan-cs/dsa"
   ]
  },
  {
   "cell_type": "markdown",
   "id": "61924279-a517-4117-a667-0274aa148cc2",
   "metadata": {},
   "source": [
    "## Hello, World!"
   ]
  },
  {
   "cell_type": "code",
   "execution_count": 15,
   "id": "1ad367a1-6823-496e-a650-894bb99e98a9",
   "metadata": {},
   "outputs": [
    {
     "name": "stdout",
     "output_type": "stream",
     "text": [
      "Hello, World! \n"
     ]
    }
   ],
   "source": [
    "#include <iostream>\n",
    "using namespace std;\n",
    "\n",
    "cout << \"Hello, World! \\n\";"
   ]
  },
  {
   "cell_type": "markdown",
   "id": "9e3a8627-7b21-4a75-b777-e69e609a1992",
   "metadata": {
    "jp-MarkdownHeadingCollapsed": true
   },
   "source": [
    "# Programming Foundations"
   ]
  },
  {
   "cell_type": "markdown",
   "id": "33b0116a-61b5-4d33-ae33-9cfd219edd9d",
   "metadata": {
    "jp-MarkdownHeadingCollapsed": true
   },
   "source": [
    "## Primitive Data Types\n",
    "\n",
    "The building blocks that make up programs."
   ]
  },
  {
   "cell_type": "code",
   "execution_count": 2,
   "id": "b65bc910-37e2-4aed-b003-272c463aaac8",
   "metadata": {},
   "outputs": [
    {
     "name": "stdout",
     "output_type": "stream",
     "text": [
      "An integer takes up 4 bytes.\n"
     ]
    }
   ],
   "source": [
    "#include <iostream>\n",
    "using namespace std;\n",
    "\n",
    "// Variable Declaration | 32-bit Architecture | 64-bit Architecture\n",
    "\n",
    "short s = -1;          // 2 bytes             | 2 bytes\n",
    "int i = -1;            // 4 bytes             | 4 bytes \n",
    "long l = -1;           // 4 bytes             | 8 bytes\n",
    "long long ll = -1;     // 8 bytes             | 8 bytes\n",
    "\n",
    "// Same number of bytes, but only works for natural numbers\n",
    "unsigned short us = -1;          // 2 bytes             | 2 bytes\n",
    "unsigned int ui = -1;            // 4 bytes             | 4 bytes \n",
    "unsigned long ul = -1;           // 4 bytes             | 8 bytes\n",
    "unsigned long long ull = -1;     // 8 bytes             | 8 bytes\n",
    "\n",
    "// Note: unsigned int has a range of [0, (2^32) - 1], \n",
    "// whereas the signed int has a range of [-(2^31), (2^31) - 1]\n",
    "// Takeaway: unsigned means only positive values\n",
    "\n",
    "// More bytes, more precision, reduces floating-point errors\n",
    "float f = -1.0;          // 4 bytes             | 4 bytes\n",
    "double d = -1.0;         // 8 bytes             | 8 bytes\n",
    "long double ld = -1.0;   // 16 bytes            | 16 bytes\n",
    "\n",
    "// Use sizeof() to check how many \n",
    "// bytes a datatype uses at COMPILE time\n",
    "cout << \"An integer takes up \" << to_string(sizeof(i))  << \" bytes.\"<< endl;"
   ]
  },
  {
   "cell_type": "markdown",
   "id": "841616f6-f689-4c81-94fb-8618154dabc7",
   "metadata": {},
   "source": [
    "## Pointers & The Heap\n",
    "\n",
    "Used to point to a location in memory. "
   ]
  },
  {
   "cell_type": "code",
   "execution_count": 4,
   "id": "2fffeb58-c869-4e25-9431-cbb240bd9933",
   "metadata": {},
   "outputs": [
    {
     "name": "stdout",
     "output_type": "stream",
     "text": [
      "5\n",
      "3\n"
     ]
    }
   ],
   "source": [
    "#include <iostream>\n",
    "using namespace std;\n",
    "\n",
    "// Allocates data on the heap (aka freestore) and \n",
    "// creates a pointer in the stack pointing to that data\n",
    "int* integer_pointer = new int(5); // Allocates 4 bytes\n",
    "cout << *integer_pointer << endl;\n",
    "\n",
    "// Data on the heap can be edited using the pointer\n",
    "*integer_pointer = 3;\n",
    "cout << *integer_pointer << endl;\n",
    "\n",
    "// ALWAYS MAKE SURE YOU DELETE POINTERS AND FREE THEM\n",
    "delete integer_pointer;\n",
    "integer_pointer = nullptr;"
   ]
  },
  {
   "cell_type": "markdown",
   "id": "3b1d05c9-2f51-4574-934e-94210bde697d",
   "metadata": {
    "jp-MarkdownHeadingCollapsed": true
   },
   "source": [
    "## Referencing\n",
    "\n",
    "To get the address of any data, use the & operator."
   ]
  },
  {
   "cell_type": "code",
   "execution_count": 5,
   "id": "174040c2-735d-492c-999f-6754f722016f",
   "metadata": {},
   "outputs": [
    {
     "name": "stdout",
     "output_type": "stream",
     "text": [
      "0x7f6336043148\n",
      "Notice that the address of the data on the heap is not the same as the address of the pointer.\n",
      "0x558254e1b660\n",
      "0x7f6336043140\n"
     ]
    }
   ],
   "source": [
    "#include <iostream>\n",
    "using namespace std;\n",
    "\n",
    "int some_integer = 5;\n",
    "cout << &some_integer << endl;\n",
    "\n",
    "cout << \"Notice that the address of the data on the heap is not the same as the address of the pointer.\" << endl;\n",
    "// The pointer is some data that resides in the stack, which \n",
    "// points to an address on the heap (where our allocated data is stored)\n",
    "double* heap_double = new double(5.0);\n",
    "cout << heap_double << endl;\n",
    "cout << &heap_double << endl;\n",
    "\n",
    "delete heap_double;\n",
    "heap_double = nullptr;"
   ]
  },
  {
   "cell_type": "markdown",
   "id": "f19659e6-dbc9-42f2-b167-de5c1830b90e",
   "metadata": {
    "jp-MarkdownHeadingCollapsed": true
   },
   "source": [
    "## Structs\n",
    "\n",
    "Used to group a set of context-dependent data types.   "
   ]
  },
  {
   "cell_type": "code",
   "execution_count": 2,
   "id": "0e322a27-87c0-42e2-a333-fabf79eaacae",
   "metadata": {},
   "outputs": [
    {
     "name": "stdout",
     "output_type": "stream",
     "text": [
      "1\n",
      "100\n",
      "Hello, World!\n",
      "-1\n",
      "Without any default value, they parameters on the default value of their datatype.\n",
      "0\n",
      "0\n",
      "\n",
      "0\n",
      "These values can be edited, however.\n",
      "1\n"
     ]
    }
   ],
   "source": [
    "#include <iostream>\n",
    "#include <string>\n",
    "using namespace std;\n",
    "\n",
    "struct Grouping_Structure_1 {\n",
    "\n",
    "    int member_A;\n",
    "    double member_B;\n",
    "    string member_C;\n",
    "    float member_D;\n",
    "\n",
    "    Grouping_Structure_1(int a, double b, string c, float d) : member_A{a},member_B{b}, member_C{c}, member_D{d} {}\n",
    "\n",
    "};\n",
    "\n",
    "Grouping_Structure_1 group_1(1, 100, \"Hello, World!\", -1.0);\n",
    "cout << group_1.member_A << endl;\n",
    "cout << group_1.member_B << endl;\n",
    "cout << group_1.member_C << endl;\n",
    "cout << group_1.member_D << endl;\n",
    "\n",
    "struct Grouping_Structure_2 {\n",
    "\n",
    "    int member_A;\n",
    "    double member_B;\n",
    "    string member_C;\n",
    "    float member_D;\n",
    "\n",
    "    // These can also be made without a constructor\n",
    "\n",
    "};\n",
    "\n",
    "Grouping_Structure_2 group_2;\n",
    "\n",
    "cout << \"Without any default value, they parameters on the default value of their datatype.\" << endl;\n",
    "cout << group_2.member_A << endl;\n",
    "cout << group_2.member_B << endl;\n",
    "cout << group_2.member_C << endl;\n",
    "cout << group_2.member_D << endl;\n",
    "\n",
    "cout << \"These values can be edited, however.\" << endl;\n",
    "group_2.member_A = 1;\n",
    "cout << group_2.member_A << endl;"
   ]
  },
  {
   "cell_type": "markdown",
   "id": "9a1ffc18-d762-4186-9b63-b01e5ef2d3ff",
   "metadata": {
    "jp-MarkdownHeadingCollapsed": true
   },
   "source": [
    "## Classes\n",
    "\n",
    "The key to object-oriented programming, builds upon the idea of a struct."
   ]
  },
  {
   "cell_type": "code",
   "execution_count": 7,
   "id": "d95d9b1b-8f81-4c50-8216-99c66a7ebeb4",
   "metadata": {},
   "outputs": [
    {
     "name": "stdout",
     "output_type": "stream",
     "text": [
      "0\n",
      "1\n",
      "You can declare methods alongside attributes in the class.\n",
      "However, private methods can only be called in the scope of the class.\n"
     ]
    }
   ],
   "source": [
    "#include <iostream>\n",
    "#include <string>\n",
    "using namespace std;\n",
    "\n",
    "class MyClass {\n",
    "\n",
    "    public: // access specifier, details the scope of the following\n",
    "        int public_int; // attribute\n",
    "        void public_func() { // method\n",
    "            cout << \"You can declare methods alongside attributes in the class.\" << endl;\n",
    "            private_func();\n",
    "        }\n",
    "        void outside_method();\n",
    "\n",
    "    private:\n",
    "        int private_int;\n",
    "        void private_func() {\n",
    "            cout << \"However, private methods can only be called in the scope of the class.\" << endl;\n",
    "        }\n",
    "};\n",
    "\n",
    "// This is not supported in the C++ notebook, \n",
    "// but is also a valid method for declaring methods.\n",
    "// void MyClass::outside_method() {\n",
    "//   cout << \"You can also declare a method outside the class.\" << endl;\n",
    "// }\n",
    "\n",
    "MyClass example;\n",
    "cout << example.public_int << endl;\n",
    "example.public_int = 1;\n",
    "cout << example.public_int << endl;\n",
    "example.public_func();"
   ]
  },
  {
   "cell_type": "code",
   "execution_count": 8,
   "id": "dec8841b-3ad5-4585-8296-fd2207c9b394",
   "metadata": {},
   "outputs": [
    {
     "name": "stderr",
     "output_type": "stream",
     "text": [
      "\u001b[1minput_line_21:3:17: \u001b[0m\u001b[0;1;31merror: \u001b[0m\u001b[1m'private_int' is a private member of 'MyClass'\u001b[0m\n",
      "cout << example.private_int << endl;\n",
      "\u001b[0;1;32m                ^\n",
      "\u001b[0m\u001b[1minput_line_20:12:13: \u001b[0m\u001b[0;1;30mnote: \u001b[0mdeclared private here\u001b[0m\n",
      "        int private_int;\n",
      "\u001b[0;1;32m            ^\n",
      "\u001b[0m"
     ]
    },
    {
     "ename": "Interpreter Error",
     "evalue": "",
     "output_type": "error",
     "traceback": [
      "Interpreter Error: "
     ]
    }
   ],
   "source": [
    "// However, notice what happens when we try to access a private attribute.\n",
    "cout << example.private_int << endl;"
   ]
  },
  {
   "cell_type": "markdown",
   "id": "6b023571-5256-46bf-b783-8f34dbf3d565",
   "metadata": {
    "jp-MarkdownHeadingCollapsed": true
   },
   "source": [
    "## Type Definitions & Function Templates\n",
    "\n",
    "Useful for writing cleaner code & fixing compiler warnings."
   ]
  },
  {
   "cell_type": "code",
   "execution_count": 1,
   "id": "4a3ae586-e6a1-4c8e-853e-b6ebc3b1f593",
   "metadata": {},
   "outputs": [
    {
     "name": "stdout",
     "output_type": "stream",
     "text": [
      "012\n",
      "1\n"
     ]
    }
   ],
   "source": [
    "#include <iostream>\n",
    "using namespace std;\n",
    "\n",
    "// We can redefine data types to abstract commonly used patterns\n",
    "// This doesn't change the behavior of the data type, only how much we need to type\n",
    "// This is useful when the compiler throws warnings on \n",
    "// things such as commonly switched parameters\n",
    "typedef int triple[3];\n",
    "typedef double super_double;\n",
    "\n",
    "triple custom_triple = {0, 1, 2};\n",
    "super_double nothing_special = 1.0;\n",
    "\n",
    "cout << custom_triple[0] << custom_triple[1] << custom_triple[2] << endl;\n",
    "cout << nothing_special << endl;"
   ]
  },
  {
   "cell_type": "code",
   "execution_count": 32,
   "id": "b8b6ed2d-532b-4ed4-9565-77751a174e70",
   "metadata": {},
   "outputs": [],
   "source": [
    "// We can also define functions without specific data types,\n",
    "// which reduces how much repetitive code we need to write\n",
    "template <typename T>\n",
    "T find_max(T a, T b) {\n",
    "    return (a > b) ? a : b;\n",
    "}"
   ]
  },
  {
   "cell_type": "code",
   "execution_count": 33,
   "id": "37e4210a-3258-4893-abed-67ec56da5c78",
   "metadata": {},
   "outputs": [
    {
     "name": "stdout",
     "output_type": "stream",
     "text": [
      "2\n",
      "4\n",
      "a\n"
     ]
    }
   ],
   "source": [
    "cout << find_max(1, 2) << endl;\n",
    "cout << find_max(3.0, 4.0) << endl;\n",
    "cout << find_max('a', 'A') << endl;"
   ]
  },
  {
   "cell_type": "code",
   "execution_count": 2,
   "id": "e9bcbc19-813d-48ad-85ca-582495206946",
   "metadata": {},
   "outputs": [],
   "source": [
    "// But T is not flexible--every parameter of type T must be of the same type\n",
    "// If it isn't, we can define multiple T's\n",
    "\n",
    "template <typename T1, typename T2>\n",
    "T1 find_max(T1 x, T2 y) {\n",
    "    return (x > y) ? x : y;\n",
    "}"
   ]
  },
  {
   "cell_type": "code",
   "execution_count": 3,
   "id": "61542731-62ed-489a-a417-fef7b5527fc7",
   "metadata": {
    "scrolled": true
   },
   "outputs": [
    {
     "name": "stdout",
     "output_type": "stream",
     "text": [
      ",\n"
     ]
    },
    {
     "data": {
      "text/plain": [
       "@0x7f6e7e76fd20"
      ]
     },
     "execution_count": 3,
     "metadata": {},
     "output_type": "execute_result"
    }
   ],
   "source": [
    "cout << find_max('a', 300) << endl;\n",
    "// Notice what happens here: \n",
    "// 1. 'a' is converted into its ASCII value, 97 \n",
    "// 2. 97 is then compared to 300\n",
    "// 3. 300 is greater than 97, so it is converted into the return type of find_max(), which is the type of variable x (char)\n",
    "// 3.5. BUT, 300 is greater than the range of ASCII, so we return 300 % 128 = 44 (there are 128 items in the ASCII table)\n",
    "// 4. 44 in ASCII is ',', so that is what we return"
   ]
  },
  {
   "cell_type": "markdown",
   "id": "dbec0057-5ef1-4541-b006-743ff03656c0",
   "metadata": {},
   "source": [
    "# Data Structures"
   ]
  },
  {
   "cell_type": "markdown",
   "id": "0cad1ed0-c03f-4bc5-8db0-b379d012f87a",
   "metadata": {
    "jp-MarkdownHeadingCollapsed": true
   },
   "source": [
    "## Static Arrays\n",
    "\n",
    "Used to store a fixed amount of data contiguously in memory.  \n",
    "**Time complexity**: O(1) read, O(1) write, O(n) search  \n",
    "**Space complexity**: O(n) "
   ]
  },
  {
   "cell_type": "code",
   "execution_count": 3,
   "id": "aba0e6d2-ce40-4d6c-ba22-016bd540c0b1",
   "metadata": {},
   "outputs": [
    {
     "name": "stdout",
     "output_type": "stream",
     "text": [
      "0x7f111970c110\n",
      "abcd\n",
      "0x7f111970c128\n",
      "0x7f111970c140\n",
      "Hello, World!\n"
     ]
    }
   ],
   "source": [
    "#include <iostream>\n",
    "#include <string>\n",
    "using namespace std;\n",
    "\n",
    "int integer_array[5] = { 0, 1, 2, 3, 4 };\n",
    "char character_array[4] = { 'a', 'b', 'c', 'd' };\n",
    "float float_array[3] = { -1.0, 0.0, 1.0 };\n",
    "string string_array[2] = { \"Hello,\", \" World!\" };\n",
    "\n",
    "// Notice how printing an array returns the pointer (stay tuned) to \n",
    "// the first element of the array, rather than the array itself\n",
    "// However, it does work for char[], as\n",
    "// that is essentially what a string is\n",
    "cout << integer_array << std::endl;\n",
    "cout << character_array << std::endl;\n",
    "cout << float_array << std::endl;\n",
    "cout << string_array << std::endl;\n",
    "cout << string_array[0] << string_array[1] << std::endl;"
   ]
  },
  {
   "cell_type": "markdown",
   "id": "5aa2c35e-fac4-470d-baa7-3219be29e0d7",
   "metadata": {},
   "source": [
    "## Resizable Arrays\n",
    "\n",
    "Arrays of non-fixed size.  \n",
    "**Time complexity**: O(1) read, O(1) write*, O(n) search  \n",
    "**Space complexity**: O(n) \n",
    "\n",
    "*\\* O(n) if attempting to write while at maximum capacity, as we will need to resize.*"
   ]
  },
  {
   "cell_type": "code",
   "execution_count": 5,
   "id": "ad2f644b-1ddc-4358-9494-83056e758f6d",
   "metadata": {},
   "outputs": [
    {
     "name": "stdout",
     "output_type": "stream",
     "text": [
      "As of 04/12/2025, these cannot be implemented in a C++ Notebook.\n"
     ]
    }
   ],
   "source": [
    "#include <iostream>\n",
    "using namespace std;\n",
    "\n",
    "// RESIZEABLE ARRAYS (aka VECTORS) //\n",
    "\n",
    "cout << \"As of 04/12/2025, these cannot be implemented in a C++ Notebook.\" << endl;"
   ]
  },
  {
   "cell_type": "markdown",
   "id": "9c9beb05-6960-465d-bbbc-5172217512eb",
   "metadata": {},
   "source": [
    "## Hash Maps\n",
    "\n",
    "Used for quick lookups, mapping one value to another.  \n",
    "**Time complexity**: O(1) read*, O(1) write*  \n",
    "**Space complexity**: O(n)  \n",
    "\n",
    "*\\* O(n) if hash collisions occur, where each bucket degrades into a list.*"
   ]
  },
  {
   "cell_type": "code",
   "execution_count": 13,
   "id": "b1d7af94-f330-4013-a62a-a0dfa132f6fb",
   "metadata": {},
   "outputs": [
    {
     "name": "stdout",
     "output_type": "stream",
     "text": [
      "Archibald's age: 30\n",
      "Bartholomew's age: 25\n",
      "Key 'Dawood' not found.\n",
      "Charleston's age: 35\n",
      "Bartholomew's age: 25\n",
      "Archibald's age: 30\n",
      "There are 2 elements in the hash map.\n"
     ]
    }
   ],
   "source": [
    "#include <iostream>\n",
    "#include <unordered_map>\n",
    "#include <string>\n",
    "using namespace std;\n",
    "\n",
    "std::unordered_map<std::string, int> hash_map;\n",
    "\n",
    "hash_map[\"Archibald\"] = 30;\n",
    "hash_map[\"Bartholomew\"] = 25;\n",
    "hash_map[\"Charleston\"] = 35;\n",
    "\n",
    "cout << \"Archibald's age: \" << hash_map[\"Archibald\"] << endl;\n",
    "cout << \"Bartholomew's age: \" << hash_map[\"Bartholomew\"] << endl;\n",
    "\n",
    "if (hash_map.find(\"Dawood\") == hash_map.end()) {\n",
    "    std::cout << \"Key 'Dawood' not found.\" << endl;\n",
    "}\n",
    "\n",
    "for (const auto& pair : hash_map) {\n",
    "    cout << pair.first << \"'s age: \" << pair.second << endl;\n",
    "}\n",
    "\n",
    "hash_map.erase(\"Bartholomew\"); // Only Archibald and Charleston remain\n",
    "\n",
    "cout << \"There are \" << hash_map.size() << \" elements in the hash map.\" << std::endl;"
   ]
  },
  {
   "cell_type": "markdown",
   "id": "9463f8ec-eb15-42c8-bdf9-e828d247dbe9",
   "metadata": {},
   "source": [
    "## [Singly] Linked List\n",
    "\n",
    "Used for efficient, dynamic storage that does not result in .  \n",
    "**Time complexity**: O(1) read*, O(1) write*  \n",
    "**Space complexity**: O(n)"
   ]
  },
  {
   "cell_type": "code",
   "execution_count": 3,
   "id": "c79f02f7-338a-497d-87e8-a4e778c94546",
   "metadata": {},
   "outputs": [
    {
     "name": "stdout",
     "output_type": "stream",
     "text": [
      "5 -> 3 -> 1 -> 2 -> 4 -> [nullptr]\n",
      "Element [2] located at address 0x56181cd0fd20\n",
      "Element [6] located at address 0\n"
     ]
    }
   ],
   "source": [
    "#include <iostream>\n",
    "#include <unordered_map>\n",
    "#include <string>\n",
    "using namespace std;\n",
    "\n",
    "struct Node {\n",
    "    int data;  \n",
    "    Node* next; \n",
    "};\n",
    "\n",
    "class LinkedList {\n",
    "public:\n",
    "    LinkedList() : head(nullptr) {}\n",
    "\n",
    "    ~LinkedList() {\n",
    "        Node* current = head;\n",
    "        while (current != nullptr) {\n",
    "            Node* next = current -> next;\n",
    "            delete current;\n",
    "            current = next;\n",
    "        }\n",
    "    }\n",
    "\n",
    "    void push_front(int data) {\n",
    "        Node* newNode = new Node{data, head};\n",
    "        head = newNode;\n",
    "    }\n",
    "\n",
    "    void push_back(int data) {\n",
    "        Node* newNode = new Node{data, nullptr};\n",
    "        \n",
    "        if (head == nullptr) { head = newNode; return; }\n",
    "        \n",
    "        Node* current = head;\n",
    "        while (current -> next != nullptr) { current = current -> next; }\n",
    "        current -> next = newNode;\n",
    "    }\n",
    "\n",
    "    Node* find(int data) {\n",
    "        Node* current = head;\n",
    "        while (current != nullptr) {\n",
    "            if (current -> data == data) { return current; }\n",
    "            current = current -> next;\n",
    "        }\n",
    "        return nullptr;\n",
    "    }\n",
    "\n",
    "    void print() {\n",
    "        Node* current = head;\n",
    "        while (current) {\n",
    "            cout << current -> data << \" -> \";\n",
    "            current = current -> next;\n",
    "        }\n",
    "        cout << \"[nullptr]\" << endl;\n",
    "    }\n",
    "\n",
    "private:\n",
    "    Node* head;\n",
    "};\n",
    "\n",
    "LinkedList myList;\n",
    "myList.push_front(1);   // 1\n",
    "myList.push_back(2);    // 1 -> 2\n",
    "myList.push_front(3);   // 3 -> 1 -> 2\n",
    "myList.push_back(4);    // 3 -> 1 -> 2 -> 4\n",
    "myList.push_front(5);   // 5 -> 3 -> 1 -> 2 -> 4\n",
    "myList.print();\n",
    "cout << \"Element [2] located at address \" << myList.find(2) << endl;\n",
    "cout << \"Element [6] located at address \" << myList.find(6) << endl;"
   ]
  },
  {
   "cell_type": "markdown",
   "id": "de558d62-c074-4330-acf2-868d51e8066b",
   "metadata": {},
   "source": [
    "## Doubly Linked List"
   ]
  },
  {
   "cell_type": "code",
   "execution_count": null,
   "id": "58236719-5903-4855-ba77-4dbe90d89e74",
   "metadata": {},
   "outputs": [],
   "source": [
    "#include <iostream>\n",
    "#include <unordered_map>\n",
    "#include <string>\n",
    "using namespace std;\n",
    "\n",
    "struct Node {\n",
    "    int data;  \n",
    "    Node* next; \n",
    "};\n",
    "\n",
    "class LinkedList {\n",
    "public:\n",
    "    LinkedList() : head(nullptr) {}\n",
    "\n",
    "    ~LinkedList() {\n",
    "        Node* current = head;\n",
    "        while (current != nullptr) {\n",
    "            Node* next = current -> next;\n",
    "            delete current;\n",
    "            current = next;\n",
    "        }\n",
    "    }\n",
    "\n",
    "    void push_front(int data) {\n",
    "        Node* newNode = new Node{data, head};\n",
    "        head = newNode;\n",
    "    }\n",
    "\n",
    "    void push_back(int data) {\n",
    "        Node* newNode = new Node{data, nullptr};\n",
    "        \n",
    "        if (head == nullptr) { head = newNode; return; }\n",
    "        \n",
    "        Node* current = head;\n",
    "        while (current -> next != nullptr) { current = current -> next; }\n",
    "        current -> next = newNode;\n",
    "    }\n",
    "\n",
    "    Node* find(int data) {\n",
    "        Node* current = head;\n",
    "        while (current != nullptr) {\n",
    "            if (current -> data == data) { return current; }\n",
    "            current = current -> next;\n",
    "        }\n",
    "        return nullptr;\n",
    "    }\n",
    "\n",
    "    void print() {\n",
    "        Node* current = head;\n",
    "        while (current) {\n",
    "            cout << current -> data << \" -> \";\n",
    "            current = current -> next;\n",
    "        }\n",
    "        cout << \"[nullptr]\" << endl;\n",
    "    }\n",
    "\n",
    "private:\n",
    "    Node* head;\n",
    "};\n",
    "\n",
    "LinkedList myList;\n",
    "myList.push_front(1);   // 1\n",
    "myList.push_back(2);    // 1 -> 2\n",
    "myList.push_front(3);   // 3 -> 1 -> 2\n",
    "myList.push_back(4);    // 3 -> 1 -> 2 -> 4\n",
    "myList.push_front(5);   // 5 -> 3 -> 1 -> 2 -> 4\n",
    "myList.print();\n",
    "cout << \"Element [2] located at address \" << myList.find(2) << endl;\n",
    "cout << \"Element [6] located at address \" << myList.find(6) << endl;"
   ]
  },
  {
   "cell_type": "markdown",
   "id": "de8a56ab-b1d6-42f3-ac31-37812c8fb109",
   "metadata": {},
   "source": [
    "## Stack\n",
    "\n",
    "*Coming soon...*"
   ]
  },
  {
   "cell_type": "markdown",
   "id": "d354df76-5af1-4fbb-9599-0764a6d9563d",
   "metadata": {},
   "source": [
    "## Queue\n",
    "\n",
    "*Coming soon...*"
   ]
  },
  {
   "cell_type": "markdown",
   "id": "3708b1b6-de3c-41a5-93fa-9011019e54ba",
   "metadata": {},
   "source": [
    "## LRU Cache\n",
    "\n",
    "*Coming soon...*"
   ]
  },
  {
   "cell_type": "markdown",
   "id": "6154a03d-24e9-4cc5-9f91-c4ce4457404e",
   "metadata": {},
   "source": [
    "## Binary Tree\n",
    "\n",
    "*Coming soon...*"
   ]
  },
  {
   "cell_type": "markdown",
   "id": "93261839-6c4d-44b3-9f0e-c83a334108aa",
   "metadata": {},
   "source": [
    "# Algorithms"
   ]
  },
  {
   "cell_type": "markdown",
   "id": "1389f8a2-0eb6-4868-8ac5-5e4b7c47a8f0",
   "metadata": {},
   "source": [
    "## Depth-first Search (DFS)\n",
    "\n",
    "*Coming soon...*"
   ]
  },
  {
   "cell_type": "markdown",
   "id": "651df167-5d5e-4c54-a2e8-62ce77558533",
   "metadata": {},
   "source": [
    "## Breadth-first Search (BFS)\n",
    "\n",
    "*Coming soon...*"
   ]
  },
  {
   "cell_type": "markdown",
   "id": "7d49f059-6ceb-4fcf-9451-5f9fed4384b1",
   "metadata": {},
   "source": [
    "## Iterative Deepening\n",
    "\n",
    "*Coming soon...*"
   ]
  },
  {
   "cell_type": "markdown",
   "id": "d589a370-d62c-4887-b9c8-eacd4e97737e",
   "metadata": {},
   "source": [
    "## Pre-order Traversal\n",
    "\n",
    "*Coming soon...*"
   ]
  },
  {
   "cell_type": "markdown",
   "id": "4fe38dac-2459-4575-9283-9bd49214838f",
   "metadata": {},
   "source": [
    "## In-order Traversal\n",
    "\n",
    "*Coming soon...*"
   ]
  },
  {
   "cell_type": "markdown",
   "id": "f6a2c212-5d8d-4653-9796-fc5bdc7552ac",
   "metadata": {},
   "source": [
    "## Post-order Traversal\n",
    "\n",
    "*Coming soon...*"
   ]
  },
  {
   "cell_type": "markdown",
   "id": "8e2aac9f-b43b-4a35-afeb-858167db753d",
   "metadata": {},
   "source": [
    "## Level-order Traversal\n",
    "\n",
    "*Coming soon...*"
   ]
  },
  {
   "cell_type": "markdown",
   "id": "9be94014-32cf-4640-9ed7-8489c3152c5d",
   "metadata": {},
   "source": [
    "## Binary Search Algorithm\n",
    "\n",
    "*Coming soon...*"
   ]
  },
  {
   "cell_type": "markdown",
   "id": "2d12b960-2882-4ba8-be67-c2956ea3b099",
   "metadata": {},
   "source": [
    "## Merge Sort Algorithm\n",
    "\n",
    "*Coming soon...*"
   ]
  },
  {
   "cell_type": "markdown",
   "id": "5e30f2f5-ba86-4956-9675-d3b3ad2e36a7",
   "metadata": {},
   "source": [
    "## Bubble Sort Algorithm\n",
    "\n",
    "*Coming soon...*"
   ]
  },
  {
   "cell_type": "markdown",
   "id": "389147b6-f25f-4b90-a83c-e34834c9e3d6",
   "metadata": {},
   "source": [
    "## Djikstra's Algorithm\n",
    "\n",
    "*Coming soon...*"
   ]
  },
  {
   "cell_type": "markdown",
   "id": "46369650-0714-40d9-8bd5-97aa88ac5116",
   "metadata": {},
   "source": [
    "## A* Algorithm\n",
    "\n",
    "*Coming soon...*"
   ]
  }
 ],
 "metadata": {
  "kernelspec": {
   "display_name": "C++17",
   "language": "C++17",
   "name": "xcpp17"
  },
  "language_info": {
   "codemirror_mode": "text/x-c++src",
   "file_extension": ".cpp",
   "mimetype": "text/x-c++src",
   "name": "c++",
   "version": "17"
  }
 },
 "nbformat": 4,
 "nbformat_minor": 5
}
